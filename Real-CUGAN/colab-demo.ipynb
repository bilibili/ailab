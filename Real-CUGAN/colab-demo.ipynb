{
  "cells": [
    {
      "cell_type": "markdown",
      "source": [
        "Step 1: Preparation \n",
        "\n",
        "Before you begin, make sure that you have set the runtime type to GPU  (Hardware acclerator: GPU)."
      ],
      "metadata": {
        "id": "Yt0hTC0eyJX-"
      }
    },
    {
      "cell_type": "code",
      "execution_count": null,
      "metadata": {
        "id": "8DyiIfxxF3Ey"
      },
      "outputs": [],
      "source": [
        "ROOTPATH=\"/content/ailab/\" # root dir (a constant)\n",
        "ModelPath=ROOTPATH+\"Real-CUGAN/model/\" # model dir\n",
        "PendingPath=ROOTPATH+\"Real-CUGAN/pending/\" # input dir\n",
        "FinishPath=ROOTPATH+\"Real-CUGAN/finish/\" # output dir\n",
        "ModelName=\"up2x-latest-no-denoise.pth\" # default model\n",
        "Tile=5 #{0,1,2,3,4,auto}; the larger the number, the smaller the memory consumption\n",
        "Scale=2\n",
        "NT=2 #线程数\n",
        "CacheModel=0\n",
        "RunModel=0 #运行模式 0=image 1=video\n",
        "DeviceBase=\"cuda:0\"\n",
        "Half=True\n",
        "\n",
        "\n",
        "# initialize environment\n",
        "!pip install torch opencv-python\n",
        "!pip install imageio-ffmpeg\n",
        "!pip install imageio==2.4.1\n",
        "!git clone https://github.com/bilibili/ailab.git\n",
        "from google.colab import drive\n",
        "drive.mount('/content/gdrive')"
      ]
    },
    {
      "cell_type": "markdown",
      "source": [
        "Step 2: Download model files from [here](https://drive.google.com/drive/folders/1UFgpV14uEAcgYvVw0fJuajzy1k7JIz6H) and save them - in a folder called `updated_weights` - under your Google Drive's root folder.\n",
        "\n",
        "Step 3: Put/upload your image(s) under `/content/aliab/Real-CUGAN/pending`.\n",
        "\n",
        "Then, run the following and choose the model you want."
      ],
      "metadata": {
        "id": "0zjBE_P0yQ5M"
      }
    },
    {
      "cell_type": "code",
      "execution_count": null,
      "metadata": {
        "id": "tMWiga8GOhMz"
      },
      "outputs": [],
      "source": [
        "import os\n",
        "if not os.path.exists(ModelPath):\n",
        "  os.mkdir(ModelPath)\n",
        "if not os.path.exists(PendingPath):\n",
        "  os.mkdir(PendingPath)\n",
        "if not os.path.exists(FinishPath):\n",
        "  os.mkdir(FinishPath)\n",
        "\n",
        "!cp -r /content/gdrive/MyDrive/updated_weights/* /content/ailab/Real-CUGAN/model/\n",
        "fileNames = os.listdir(PendingPath)\n",
        "print(\"Pending images:\")\n",
        "for i in fileNames:\n",
        "  print(\"\\t\"+i)\n",
        "fileNames = os.listdir(ModelPath)\n",
        "print(\"Model files available:\")\n",
        "for idx, i in enumerate(fileNames):\n",
        "  print(f\"{idx+1}. \\t {i}\")\n",
        "choice = int(input(\"Select model (leave blank for default)：\"))\n",
        "if choice:\n",
        "  ModelName=fileNames[choice-1]\n",
        "Amplification=ModelName[2] # amplifying ratio\n",
        "if (not os.path.isfile(ModelPath+ModelName)):\n",
        "  print(\"Warning: selected model file does not exist\")"
      ]
    },
    {
      "cell_type": "markdown",
      "source": [
        "Step 4: Run the processing script."
      ],
      "metadata": {
        "id": "-_JcZ1RAyZtU"
      }
    },
    {
      "cell_type": "code",
      "execution_count": null,
      "metadata": {
        "id": "v0ip7SPmI8nj"
      },
      "outputs": [],
      "source": [
        "import sys\n",
        "sys.path.append(\"/content/ailab/Real-CUGAN\")\n",
        "import matplotlib.pyplot as plt\n",
        "%matplotlib inline\n",
        "import torch\n",
        "from torch import nn as nn\n",
        "from torch.nn import functional as F\n",
        "import os,sys,cv2\n",
        "import numpy as np\n",
        "from upcunet_v3 import RealWaifuUpScaler\n",
        "from inference_video import VideoRealWaifuUpScaler\n",
        "from inference_video import UpScalerMT\n",
        "from multiprocessing import Queue\n",
        "from time import time as ttime  \n",
        "fileNames = os.listdir(PendingPath)\n",
        "print(f\"using model {ModelPath+ModelName}\")\n",
        "\n",
        "upscaler = RealWaifuUpScaler(Scale, ModelPath+ModelName, half=Half, device=DeviceBase)\n",
        "\n",
        "# Overwrite VideoRealWaifuUpScaler\n",
        "class VideoRealWaifuUpScaler_kai(VideoRealWaifuUpScaler):\n",
        "  def __init__(self):\n",
        "    self.nt = NT\n",
        "    self.n_gpu=1  # 每块GPU开nt个进程\n",
        "    self.scale=Scale\n",
        "    self.encode_params = ['-crf', '21', '-preset', 'medium']\n",
        "    self.p_sleep=(0.005,0.012)\n",
        "    self.decode_sleep=0.002\n",
        "    self.half=Half\n",
        "    self.tile=Tile\n",
        "    self.cache_mode=CacheModel\n",
        "    self.alpha=1\n",
        "    self.device=DeviceBase\n",
        "\n",
        "    video_model = RealWaifuUpScaler(Scale, ModelPath+ModelName, Half, DeviceBase)\n",
        "    self.inp_q = Queue(NT * 2)\n",
        "    self.res_q = Queue(NT * 2)\n",
        "    for _ in range(NT):\n",
        "        upscaler = UpScalerMT(self.inp_q, self.res_q, self.device, video_model, self.p_sleep, self.nt, self.tile, self.cache_mode, self.alpha)\n",
        "        upscaler.start()\n",
        "\n",
        "video_upscaler=VideoRealWaifuUpScaler_kai()\n",
        "\n",
        "t0 = ttime()\n",
        "for i in fileNames:\n",
        "  torch.cuda.empty_cache()\n",
        "  try:\n",
        "    if RunModel == 0:\n",
        "      img = cv2.imread(PendingPath+i)[:, :, [2, 1, 0]]\n",
        "      result = upscaler(img,tile_mode=5,cache_mode=2,alpha=1)\n",
        "      cv2.imwrite(FinishPath+i,result[:, :, ::-1])\n",
        "    elif RunModel == 1:\n",
        "      video_upscaler(PendingPath+i, FinishPath+i)\n",
        "    else:\n",
        "      print(\"Warning: Error RunModel Input\")\n",
        "  except RuntimeError as e:\n",
        "    print (i+\" FAILED\")\n",
        "    print (e)\n",
        "  else:\n",
        "    print(i+\" DONE\")\n",
        "    os.remove(PendingPath+i)\n",
        "t1 = ttime()\n",
        "print(\"time_spent\", t1 - t0)\n"
      ]
    },
    {
      "cell_type": "markdown",
      "source": [
        "Generated images should be under /content/aliab/Real-CUGAN/finish."
      ],
      "metadata": {
        "id": "7yYUAiIzzCaC"
      }
    }
  ],
  "metadata": {
    "accelerator": "GPU",
    "colab": {
      "collapsed_sections": [],
      "name": "Real-CUGAN.ipynb",
      "provenance": []
    },
    "kernelspec": {
      "display_name": "Python 3",
      "name": "python3"
    },
    "language_info": {
      "name": "python"
    }
  },
  "nbformat": 4,
  "nbformat_minor": 0
}
