{
  "cells": [
    {
      "cell_type": "markdown",
      "metadata": {
        "id": "l17pJwpKVQBY"
      },
      "source": [
        "必要配置项\n",
        " - `ROOTPATH` 网盘的根目录路径，一般无需更改\n",
        " - `ModelPath` 模型路径\n",
        " - `PindingPath` 待处理图片路径\n",
        " - `FinishPath` 图片完成存放路径\n",
        " - `ModelName`  模型名称\n",
        " - `Tile`  有6种模式，数字越大显存需求越低，相对地可能会小幅降低推理速度 **{0, 1, 2, 3, 4, auto}**\n",
        " - `Amplification` 放大倍数，需要与模型匹配\n",
        "\n"
      ]
    },
    {
      "cell_type": "code",
      "execution_count": 5,
      "metadata": {
        "id": "SIKjGKKTQxEN"
      },
      "outputs": [],
      "source": [
        "ROOTPATH=\"/content/gdrive/MyDrive/\"\n",
        "ModelPath=ROOTPATH+\"Real-CUGAN/model/\"\n",
        "PendingPath=ROOTPATH+\"Real-CUGAN/pending/\"\n",
        "FinishPath=ROOTPATH+\"Real-CUGAN/finish/\"\n",
        "ModelName=\"up2x-latest-no-denoise.pth\"\n",
        "Tile=4\n",
        "Amplification=ModelName[2]"
      ]
    },
    {
      "cell_type": "code",
      "execution_count": 6,
      "metadata": {
        "colab": {
          "base_uri": "https://localhost:8080/"
        },
        "id": "8DyiIfxxF3Ey",
        "outputId": "9dcf1673-b9e8-453f-b1c5-56797b888125"
      },
      "outputs": [
        {
          "name": "stdout",
          "output_type": "stream",
          "text": [
            "Requirement already satisfied: torch in /usr/local/lib/python3.7/dist-packages (1.10.0+cu111)\n",
            "Requirement already satisfied: opencv-python in /usr/local/lib/python3.7/dist-packages (4.1.2.30)\n",
            "Requirement already satisfied: typing-extensions in /usr/local/lib/python3.7/dist-packages (from torch) (3.10.0.2)\n",
            "Requirement already satisfied: numpy>=1.14.5 in /usr/local/lib/python3.7/dist-packages (from opencv-python) (1.19.5)\n",
            "fatal: destination path 'ailab' already exists and is not an empty directory.\n",
            "Drive already mounted at /content/gdrive; to attempt to forcibly remount, call drive.mount(\"/content/gdrive\", force_remount=True).\n"
          ]
        }
      ],
      "source": [
        "#初始化环境并挂载谷歌云盘\n",
        "!pip install torch opencv-python\n",
        "!git clone https://github.com/bilibili/ailab.git\n",
        "from google.colab import drive\n",
        "drive.mount('/content/gdrive')"
      ]
    },
    {
      "cell_type": "markdown",
      "metadata": {
        "id": "S3uXsXgzWXRT"
      },
      "source": []
    },
    {
      "cell_type": "code",
      "execution_count": 7,
      "metadata": {
        "colab": {
          "base_uri": "https://localhost:8080/"
        },
        "id": "tMWiga8GOhMz",
        "outputId": "af8781f6-0bbb-4920-d658-9f68edf28188"
      },
      "outputs": [
        {
          "name": "stdout",
          "output_type": "stream",
          "text": [
            "目前待处理图片\n"
          ]
        }
      ],
      "source": [
        "import os\n",
        "fileNames = os.listdir(PendingPath)\n",
        "print(\"目前待处理图片\")\n",
        "for i in fileNames:\n",
        "  print(\"\\t\"+i)\n",
        "if (not os.path.isfile(ModelPath+ModelName)):\n",
        "  print(\"警告：当前选择的模型不存在\")\n",
        "  fileNames = os.listdir(ModelPath)\n",
        "  print(\"目前已有模型\")\n",
        "  for i in fileNames:\n",
        "    print(\"\\t\"+i)"
      ]
    },
    {
      "cell_type": "code",
      "execution_count": 8,
      "metadata": {
        "colab": {
          "base_uri": "https://localhost:8080/"
        },
        "id": "v0ip7SPmI8nj",
        "outputId": "a392a738-7d06-48e8-c641-203a2bccc04f"
      },
      "outputs": [
        {
          "name": "stdout",
          "output_type": "stream",
          "text": [
            "done 0.0001957416534423828\n"
          ]
        }
      ],
      "source": [
        "import sys\n",
        "sys.path.append(\"/content/ailab/Real-CUGAN\")\n",
        "import matplotlib.pyplot as plt\n",
        "%matplotlib inline\n",
        "import torch\n",
        "from torch import nn as nn\n",
        "from torch.nn import functional as F\n",
        "import os,sys,cv2\n",
        "import numpy as np\n",
        "from upcunet_v3 import RealWaifuUpScaler\n",
        "from time import time as ttime  \n",
        "fileNames = os.listdir(PendingPath)\n",
        "upscaler = RealWaifuUpScaler(Amplification, ModelPath+ModelName, half=True, device=\"cuda:0\")\n",
        "t0 = ttime()\n",
        "for i in fileNames:\n",
        "  torch.cuda.empty_cache()\n",
        "  try:\n",
        "    img = cv2.imread(PendingPath+i)[:, :, [2, 1, 0]]\n",
        "    result = upscaler(img,tile_mode=2)\n",
        "    cv2.imwrite(FinishPath+i,result[:, :, ::-1])\n",
        "  except RuntimeError as e:\n",
        "    print (i+\"失败\")\n",
        "    print (e)\n",
        "  else:\n",
        "    print(i+\"已完成\")\n",
        "    os.remove(PendingPath+i)\n",
        "t1 = ttime()\n",
        "print(\"done\", t1 - t0)"
      ]
    }
  ],
  "metadata": {
    "accelerator": "GPU",
    "colab": {
      "collapsed_sections": [],
      "name": "colab-Real-CUGAN.ipynb",
      "provenance": []
    },
    "kernelspec": {
      "display_name": "Python 3",
      "name": "python3"
    },
    "language_info": {
      "name": "python"
    }
  },
  "nbformat": 4,
  "nbformat_minor": 0
}
